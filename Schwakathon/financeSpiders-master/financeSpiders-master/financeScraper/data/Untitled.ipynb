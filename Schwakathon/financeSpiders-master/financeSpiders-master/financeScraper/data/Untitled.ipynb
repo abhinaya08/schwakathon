{
 "cells": [
  {
   "cell_type": "code",
   "execution_count": 3,
   "metadata": {},
   "outputs": [
    {
     "name": "stdout",
     "output_type": "stream",
     "text": [
      "Collecting newspaper3k\n",
      "  Downloading https://files.pythonhosted.org/packages/d7/b9/51afecb35bb61b188a4b44868001de348a0e8134b4dfa00ffc191567c4b9/newspaper3k-0.2.8-py3-none-any.whl (211kB)\n",
      "Collecting feedparser>=5.2.1 (from newspaper3k)\n",
      "  Using cached https://files.pythonhosted.org/packages/91/d8/7d37fec71ff7c9dbcdd80d2b48bcdd86d6af502156fc93846fb0102cb2c4/feedparser-5.2.1.tar.bz2\n",
      "Requirement already satisfied: nltk>=3.2.1 in c:\\users\\abhin\\anaconda2\\envs\\python3\\lib\\site-packages (from newspaper3k) (3.3)\n",
      "Requirement already satisfied: Pillow>=3.3.0 in c:\\users\\abhin\\anaconda2\\envs\\python3\\lib\\site-packages (from newspaper3k) (5.3.0)\n",
      "Requirement already satisfied: requests>=2.10.0 in c:\\users\\abhin\\anaconda2\\envs\\python3\\lib\\site-packages (from newspaper3k) (2.19.1)\n",
      "Collecting feedfinder2>=0.0.4 (from newspaper3k)\n",
      "  Downloading https://files.pythonhosted.org/packages/35/82/1251fefec3bb4b03fd966c7e7f7a41c9fc2bb00d823a34c13f847fd61406/feedfinder2-0.0.4.tar.gz\n",
      "Requirement already satisfied: python-dateutil>=2.5.3 in c:\\users\\abhin\\anaconda2\\envs\\python3\\lib\\site-packages (from newspaper3k) (2.7.3)\n",
      "Requirement already satisfied: cssselect>=0.9.2 in c:\\users\\abhin\\anaconda2\\envs\\python3\\lib\\site-packages (from newspaper3k) (1.0.3)\n",
      "Requirement already satisfied: beautifulsoup4>=4.4.1 in c:\\users\\abhin\\anaconda2\\envs\\python3\\lib\\site-packages (from newspaper3k) (4.6.3)\n",
      "Collecting tinysegmenter==0.3 (from newspaper3k)\n",
      "  Downloading https://files.pythonhosted.org/packages/17/82/86982e4b6d16e4febc79c2a1d68ee3b707e8a020c5d2bc4af8052d0f136a/tinysegmenter-0.3.tar.gz\n",
      "Requirement already satisfied: lxml>=3.6.0 in c:\\users\\abhin\\anaconda2\\envs\\python3\\lib\\site-packages (from newspaper3k) (4.2.5)\n",
      "Collecting tldextract>=2.0.1 (from newspaper3k)\n",
      "  Downloading https://files.pythonhosted.org/packages/0e/0c/1b7332684dfc2e6311d59cd00859a5318a7e0ba50334ad217ceb9555e213/tldextract-2.2.0-py2.py3-none-any.whl (52kB)\n",
      "Collecting jieba3k>=0.35.1 (from newspaper3k)\n",
      "  Downloading https://files.pythonhosted.org/packages/a9/cb/2c8332bcdc14d33b0bedd18ae0a4981a069c3513e445120da3c3f23a8aaa/jieba3k-0.35.1.zip (7.4MB)\n",
      "Requirement already satisfied: PyYAML>=3.11 in c:\\users\\abhin\\anaconda2\\envs\\python3\\lib\\site-packages (from newspaper3k) (3.13)\n",
      "Requirement already satisfied: six in c:\\users\\abhin\\anaconda2\\envs\\python3\\lib\\site-packages (from nltk>=3.2.1->newspaper3k) (1.11.0)\n",
      "Requirement already satisfied: urllib3<1.24,>=1.21.1 in c:\\users\\abhin\\anaconda2\\envs\\python3\\lib\\site-packages (from requests>=2.10.0->newspaper3k) (1.22)\n",
      "Requirement already satisfied: certifi>=2017.4.17 in c:\\users\\abhin\\anaconda2\\envs\\python3\\lib\\site-packages (from requests>=2.10.0->newspaper3k) (2018.8.24)\n",
      "Requirement already satisfied: chardet<3.1.0,>=3.0.2 in c:\\users\\abhin\\anaconda2\\envs\\python3\\lib\\site-packages (from requests>=2.10.0->newspaper3k) (3.0.4)\n",
      "Requirement already satisfied: idna<2.8,>=2.5 in c:\\users\\abhin\\anaconda2\\envs\\python3\\lib\\site-packages (from requests>=2.10.0->newspaper3k) (2.7)\n",
      "Requirement already satisfied: setuptools in c:\\users\\abhin\\anaconda2\\envs\\python3\\lib\\site-packages (from tldextract>=2.0.1->newspaper3k) (40.4.3)\n",
      "Collecting requests-file>=1.4 (from tldextract>=2.0.1->newspaper3k)\n",
      "  Downloading https://files.pythonhosted.org/packages/23/9c/6e63c23c39e53d3df41c77a3d05a49a42c4e1383a6d2a5e3233161b89dbf/requests_file-1.4.3-py2.py3-none-any.whl\n",
      "Building wheels for collected packages: feedparser, feedfinder2, tinysegmenter, jieba3k\n",
      "  Running setup.py bdist_wheel for feedparser: started\n",
      "  Running setup.py bdist_wheel for feedparser: finished with status 'done'\n",
      "  Stored in directory: C:\\Users\\abhin\\AppData\\Local\\pip\\Cache\\wheels\\8c\\69\\b7\\f52763c41c5471df57703a0ef718a32a5e81ee35dcf6d4f97f\n",
      "  Running setup.py bdist_wheel for feedfinder2: started\n",
      "  Running setup.py bdist_wheel for feedfinder2: finished with status 'done'\n",
      "  Stored in directory: C:\\Users\\abhin\\AppData\\Local\\pip\\Cache\\wheels\\de\\03\\ca\\778e3a7a627e3d98836cc890e7cb40c7575424cfd3340f40ed\n",
      "  Running setup.py bdist_wheel for tinysegmenter: started\n",
      "  Running setup.py bdist_wheel for tinysegmenter: finished with status 'done'\n",
      "  Stored in directory: C:\\Users\\abhin\\AppData\\Local\\pip\\Cache\\wheels\\81\\2b\\43\\a02ede72324dd40cdd7ca53aad718c7710628e91b8b0dc0f02\n",
      "  Running setup.py bdist_wheel for jieba3k: started\n",
      "  Running setup.py bdist_wheel for jieba3k: finished with status 'done'\n",
      "  Stored in directory: C:\\Users\\abhin\\AppData\\Local\\pip\\Cache\\wheels\\83\\15\\9c\\a3f1f67e7f7181170ad37d32e503c35da20627c013f438ed34\n",
      "Successfully built feedparser feedfinder2 tinysegmenter jieba3k\n",
      "Installing collected packages: feedparser, feedfinder2, tinysegmenter, requests-file, tldextract, jieba3k, newspaper3k\n",
      "Successfully installed feedfinder2-0.0.4 feedparser-5.2.1 jieba3k-0.35.1 newspaper3k-0.2.8 requests-file-1.4.3 tinysegmenter-0.3 tldextract-2.2.0\n"
     ]
    },
    {
     "name": "stderr",
     "output_type": "stream",
     "text": [
      "You are using pip version 18.1, however version 19.0.1 is available.\n",
      "You should consider upgrading via the 'python -m pip install --upgrade pip' command.\n"
     ]
    }
   ],
   "source": [
    "!pip3 install newspaper3k"
   ]
  },
  {
   "cell_type": "code",
   "execution_count": 1,
   "metadata": {},
   "outputs": [
    {
     "ename": "ModuleNotFoundError",
     "evalue": "No module named 'newspaper'",
     "output_type": "error",
     "traceback": [
      "\u001b[1;31m---------------------------------------------------------------------------\u001b[0m",
      "\u001b[1;31mModuleNotFoundError\u001b[0m                       Traceback (most recent call last)",
      "\u001b[1;32m<ipython-input-1-4b68674f0659>\u001b[0m in \u001b[0;36m<module>\u001b[1;34m()\u001b[0m\n\u001b[1;32m----> 1\u001b[1;33m \u001b[1;32mfrom\u001b[0m \u001b[0mnewspaper\u001b[0m \u001b[1;32mimport\u001b[0m \u001b[0mArticle\u001b[0m\u001b[1;33m\u001b[0m\u001b[0m\n\u001b[0m",
      "\u001b[1;31mModuleNotFoundError\u001b[0m: No module named 'newspaper'"
     ]
    }
   ],
   "source": [
    "from newspaper import Article"
   ]
  },
  {
   "cell_type": "code",
   "execution_count": 4,
   "metadata": {},
   "outputs": [],
   "source": [
    "url = 'https://www.investopedia.com/news/why-broadcom-will-make-10-every-iphone-jpm/?utm_campaign=quote-bloomberg&utm_source=bloomb'\n",
    "article = Article(url)"
   ]
  },
  {
   "cell_type": "code",
   "execution_count": 5,
   "metadata": {},
   "outputs": [],
   "source": [
    "article.download()"
   ]
  },
  {
   "cell_type": "code",
   "execution_count": 6,
   "metadata": {},
   "outputs": [],
   "source": [
    "article.parse()"
   ]
  },
  {
   "cell_type": "code",
   "execution_count": 7,
   "metadata": {},
   "outputs": [
    {
     "data": {
      "text/plain": [
       "['Shoshanna Delventhal']"
      ]
     },
     "execution_count": 7,
     "metadata": {},
     "output_type": "execute_result"
    }
   ],
   "source": [
    "article.authors"
   ]
  },
  {
   "cell_type": "code",
   "execution_count": 8,
   "metadata": {},
   "outputs": [
    {
     "data": {
      "text/plain": [
       "'As Broadcom Ltd. (AVGO) prepares to post its most recent quarterly earnings report Thursday, one team of bulls on the Street sees more upside in shares of the San Jose, California-based semiconductor manufacturer, thanks to its strong relationship with Apple Inc. (AAPL). (See also: Broadcom Stock Is Cheap, Poised to Pop on Earnings.)\\n\\nIn a note to clients Tuesday, J.P. Morgan wrote that the chipmaker is expected to handle all of Apple’s need for a class of chip in its new iPhone, translating to revenue of $10 per smartphone. As Broadcom maintains its 100% share of non-radio frequency chips in the upcoming generation of Apple\\'s phones, slated for release this year, it will be the sole enabler of wireless charging, Wi-Fi, Bluetooth and GPS capabilities.\\n\\nNon-Radio Frequency Chips Boost Broadcom Top Line\\n\\n\"We see 8 percent to 10 percent increase in non-radio frequency dollar content in the 2018 iPhone models—upgraded wireless charging chip, increased GPS/wireless charging attach rates are the big drivers,\" wrote J.P. Morgan analyst Harlan Sur. He indicated that the partnership with the Cupertino, California-based tech titan should drive top line growth at Broadcom, contributing to improved profitability and free cash flow. Sur indicated that the market \"often forgets\" about Broadcom\\'s dominance in wireless connectivity and its \"close relationship with Apple.\"\\n\\nJ.P. Morgan expects the chipmaker\\'s second-quarter earnings per share (EPS) results to come in on Thursday at $4.77, in line with the consensus estimate. In Q3, the analyst\\'s forecast for EPS of $4.63 is above the Street\\'s estimates, according to FactSet.\\n\\nA $337 Price Target\\n\\n\"Next year, we anticipate further content gains on the 2019 models as Apple will move to Broadcom\\'s next generation\" of Bluetooth and Wi-Fi combo chips, added Sur. He expects AVGO stock to gain approximately 29% from Wednesday to reach $337 over 12 months. Trading up about 1% at $262.07, AVGO reflects a 2.3% increase year-to-date (YTD) and a 3.2% gain over 12 months, compared to the S&P 500\\'s 3.2% return and 13.6% growth over the same respective periods.\\n\\nIn March, Broadcom\\'s bid to buy Qualcomm Inc. (QCOM), a global supplier of digital communications products, was denied by a U.S. Treasury committee on national security grounds. (See also: 3 Stocks for Whether Economy Grows or Slows: Barron’s.)'"
      ]
     },
     "execution_count": 8,
     "metadata": {},
     "output_type": "execute_result"
    }
   ],
   "source": [
    "article.text"
   ]
  },
  {
   "cell_type": "code",
   "execution_count": null,
   "metadata": {},
   "outputs": [],
   "source": []
  }
 ],
 "metadata": {
  "kernelspec": {
   "display_name": "Python 3",
   "language": "python",
   "name": "python3"
  },
  "language_info": {
   "codemirror_mode": {
    "name": "ipython",
    "version": 3
   },
   "file_extension": ".py",
   "mimetype": "text/x-python",
   "name": "python",
   "nbconvert_exporter": "python",
   "pygments_lexer": "ipython3",
   "version": "3.6.6"
  }
 },
 "nbformat": 4,
 "nbformat_minor": 2
}
