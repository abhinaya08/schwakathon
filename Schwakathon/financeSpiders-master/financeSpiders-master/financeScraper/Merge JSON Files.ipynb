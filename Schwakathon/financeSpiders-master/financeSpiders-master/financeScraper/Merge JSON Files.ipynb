{
 "cells": [
  {
   "cell_type": "code",
   "execution_count": 55,
   "metadata": {},
   "outputs": [],
   "source": [
    "import glob\n",
    "import json\n",
    "df = pd.DataFrame()\n",
    "for g in glob.glob(\".\\data\\*.jl\"):\n",
    "    data = []\n",
    "    with open(g) as f:\n",
    "        #print(f)\n",
    "        for line in f:\n",
    "            data.append(json.loads(line))\n",
    "    dfx = pd.DataFrame(data)\n",
    "    df = df.append(dfx)"
   ]
  },
  {
   "cell_type": "code",
   "execution_count": 57,
   "metadata": {},
   "outputs": [],
   "source": [
    "df.to_csv(\".\\data\\data_scraped.csv\")"
   ]
  }
 ],
 "metadata": {
  "kernelspec": {
   "display_name": "Python 3",
   "language": "python",
   "name": "python3"
  },
  "language_info": {
   "codemirror_mode": {
    "name": "ipython",
    "version": 3
   },
   "file_extension": ".py",
   "mimetype": "text/x-python",
   "name": "python",
   "nbconvert_exporter": "python",
   "pygments_lexer": "ipython3",
   "version": "3.6.6"
  }
 },
 "nbformat": 4,
 "nbformat_minor": 2
}
